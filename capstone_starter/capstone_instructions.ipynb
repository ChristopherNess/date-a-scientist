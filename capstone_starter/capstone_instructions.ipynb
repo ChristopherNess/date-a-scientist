{
 "cells": [
  {
   "cell_type": "markdown",
   "metadata": {},
   "source": [
    "# Code Academy - Capstone\n",
    "\n",
    "In recent years, there has been a massive rise in the usage of dating apps to find love. Many of these apps use sophisticated data science techniques to recommend possible matches to users and to optimize the user experience. These apps give us access to a wealth of information that we've never had before about how different people experience romance.\n",
    "\n",
    "\n",
    "In this capstone, you will analyze some data from OKCupid, an app that focuses on using multiple choice and short answers to match users.\n",
    "\n",
    "\n",
    "The dataset provided has the following columns of multiple-choice data:\n",
    "\n",
    "- body_type\n",
    "- diet\n",
    "- drinks\n",
    "- drugs\n",
    "- education\n",
    "- ethnicity\n",
    "- height\n",
    "- income\n",
    "- job\n",
    "- offspring\n",
    "- orientation\n",
    "- pets\n",
    "- religion\n",
    "- sex\n",
    "- sign\n",
    "- smokes\n",
    "- speaks\n",
    "- status\n",
    "\n",
    "And a set of open short-answer responses to :\n",
    "\n",
    "- essay0 - My self summary\n",
    "- essay1 - What I’m doing with my life\n",
    "- essay2 - I’m really good at\n",
    "- essay3 - The first thing people usually notice about me\n",
    "- essay4 - Favorite books, movies, show, music, and food\n",
    "- essay5 - The six things I could never do without\n",
    "- essay6 - I spend a lot of time thinking about\n",
    "- essay7 - On a typical Friday night I am\n",
    "- essay8 - The most private thing I am willing to admit\n",
    "- essay9 - You should message me if…\n",
    "\n",
    "\n",
    "### Introduction\n",
    "\n",
    "\n",
    "In this capstone, you will create a presentation about your findings in this OkCupid dataset.\n",
    "\n",
    "\n",
    "The purpose of this capstone is to practice formulating questions and implementing Machine Learning techniques to answer those questions. We will give you guidance about the kinds of questions we asked, and the kinds of methods we used to answer those questions. But the questions you ask and how you answer them are entirely up to you. We're excited to see what kinds of different things you explore.\n",
    "Compared to the other projects you have completed this far, we are requiring few restrictions on how you structure your code. The project is far more open-ended, and you should use your creativity. In addition, much of the code you write for later parts of this project will depend on how you decided to implement earlier parts. **Therefore, we strongly encourage you to read through the entire assignment before writing any code.**\n",
    "________________\n",
    "\n",
    "\n",
    "### Load in the DataFrame\n",
    "\n",
    "\n",
    "The data is stored in **profiles.csv**. We can start to work with it in **dating.py** by using Pandas, which we have imported for you with the line:"
   ]
  },
  {
   "cell_type": "code",
   "execution_count": 4,
   "metadata": {},
   "outputs": [],
   "source": [
    "import pandas as pd"
   ]
  },
  {
   "cell_type": "markdown",
   "metadata": {},
   "source": [
    "and then loading the csv into a DataFrame:\n"
   ]
  },
  {
   "cell_type": "code",
   "execution_count": 5,
   "metadata": {},
   "outputs": [],
   "source": [
    "df = pd.read_csv(\"profiles.csv\")"
   ]
  },
  {
   "cell_type": "markdown",
   "metadata": {},
   "source": [
    "### Explore the Data\n",
    "\n",
    "\n",
    "Let's make sure we understand what these columns represent!\n",
    "\n",
    "Pick some columns and call `.head()` on them to see the first five rows of data. For example, we were curious about `job`, so we called:"
   ]
  },
  {
   "cell_type": "code",
   "execution_count": 6,
   "metadata": {},
   "outputs": [
    {
     "data": {
      "text/plain": [
       "0                 transportation\n",
       "1           hospitality / travel\n",
       "2                            NaN\n",
       "3                        student\n",
       "4    artistic / musical / writer\n",
       "Name: job, dtype: object"
      ]
     },
     "execution_count": 6,
     "metadata": {},
     "output_type": "execute_result"
    }
   ],
   "source": [
    "df.job.head()"
   ]
  },
  {
   "cell_type": "markdown",
   "metadata": {},
   "source": [
    "You can also call `value_counts()` on a column to figure out what possible responses there are, and how many of each response there was.\n",
    "\n",
    "\n",
    "### Visualize some of the Data\n",
    "\n",
    "\n",
    "We can start to build graphs from the data by first importing Matplotlib:"
   ]
  },
  {
   "cell_type": "code",
   "execution_count": 7,
   "metadata": {},
   "outputs": [],
   "source": [
    "from matplotlib import pyplot as plt"
   ]
  },
  {
   "cell_type": "markdown",
   "metadata": {},
   "source": [
    "and then making some plots!\n",
    "\n",
    "For example, we were curious about the distribution of ages on the site, so we made a histogram of the `age` column:"
   ]
  },
  {
   "cell_type": "code",
   "execution_count": 8,
   "metadata": {},
   "outputs": [
    {
     "data": {
      "image/png": "[encoded data removed]",
      "text/plain": [
       "<Figure size 432x288 with 1 Axes>"
      ]
     },
     "metadata": {
      "needs_background": "light"
     },
     "output_type": "display_data"
    }
   ],
   "source": [
    "plt.hist(df.age, bins=20)\n",
    "plt.xlabel(\"Age\")\n",
    "plt.ylabel(\"Frequency\")\n",
    "plt.xlim(16, 80)\n",
    "plt.show()"
   ]
  },
  {
   "cell_type": "markdown",
   "metadata": {},
   "source": [
    "Try this code in your own file and take a look at the histogram it produces!\n",
    "\n",
    "\n",
    "### Formulate a Question\n",
    "\n",
    "\n",
    "As we started to look at this data, we started to get more and more curious about Zodiac signs. First, we looked at all of the possible values for Zodiac signs:\n"
   ]
  },
  {
   "cell_type": "code",
   "execution_count": 9,
   "metadata": {},
   "outputs": [
    {
     "data": {
      "text/plain": [
       "gemini and it&rsquo;s fun to think about         1782\n",
       "scorpio and it&rsquo;s fun to think about        1772\n",
       "leo and it&rsquo;s fun to think about            1692\n",
       "libra and it&rsquo;s fun to think about          1649\n",
       "taurus and it&rsquo;s fun to think about         1640\n",
       "cancer and it&rsquo;s fun to think about         1597\n",
       "pisces and it&rsquo;s fun to think about         1592\n",
       "sagittarius and it&rsquo;s fun to think about    1583\n",
       "virgo and it&rsquo;s fun to think about          1574\n",
       "aries and it&rsquo;s fun to think about          1573\n",
       "aquarius and it&rsquo;s fun to think about       1503\n",
       "virgo but it doesn&rsquo;t matter                1497\n",
       "leo but it doesn&rsquo;t matter                  1457\n",
       "cancer but it doesn&rsquo;t matter               1454\n",
       "gemini but it doesn&rsquo;t matter               1453\n",
       "taurus but it doesn&rsquo;t matter               1450\n",
       "libra but it doesn&rsquo;t matter                1408\n",
       "aquarius but it doesn&rsquo;t matter             1408\n",
       "capricorn and it&rsquo;s fun to think about      1376\n",
       "sagittarius but it doesn&rsquo;t matter          1375\n",
       "aries but it doesn&rsquo;t matter                1373\n",
       "capricorn but it doesn&rsquo;t matter            1319\n",
       "pisces but it doesn&rsquo;t matter               1300\n",
       "scorpio but it doesn&rsquo;t matter              1264\n",
       "leo                                              1159\n",
       "libra                                            1098\n",
       "cancer                                           1092\n",
       "virgo                                            1029\n",
       "scorpio                                          1020\n",
       "gemini                                           1013\n",
       "taurus                                           1001\n",
       "aries                                             996\n",
       "pisces                                            992\n",
       "aquarius                                          954\n",
       "sagittarius                                       937\n",
       "capricorn                                         833\n",
       "scorpio and it matters a lot                       78\n",
       "leo and it matters a lot                           66\n",
       "cancer and it matters a lot                        63\n",
       "aquarius and it matters a lot                      63\n",
       "gemini and it matters a lot                        62\n",
       "pisces and it matters a lot                        62\n",
       "libra and it matters a lot                         52\n",
       "taurus and it matters a lot                        49\n",
       "aries and it matters a lot                         47\n",
       "sagittarius and it matters a lot                   47\n",
       "capricorn and it matters a lot                     45\n",
       "virgo and it matters a lot                         41\n",
       "Name: sign, dtype: int64"
      ]
     },
     "execution_count": 9,
     "metadata": {},
     "output_type": "execute_result"
    }
   ],
   "source": [
    "df.sign.value_counts()"
   ]
  },
  {
   "cell_type": "markdown",
   "metadata": {},
   "source": [
    "We started to wonder if there was a way to predict a user's Zodiac sign from the information in their profile. Thinking about the columns we had already explored, we thought that maybe we could classify Zodiac signs using drinking, smoking, drugs, and essays as our features.\n",
    "\n",
    "\n",
    "\n",
    "\n",
    "### Augment your Data\n",
    "\n",
    "\n",
    "In order to answer the question you've formulated, you will probably need to create some new columns in the DataFrame. This is especially true because so much of our data here is categorical (i.e. `diet` consists of the options `vegan`, `vegetarian`, `anything`, etc. instead of numerical values).\n",
    "\n",
    "\n",
    "Categorical data is great to use as labels, but we want to create some numerical data as well to use for features.\n",
    "\n",
    "\n",
    "For our question about Zodiac signs, we wanted to transform the `drinks` column into numerical data. We used:\n"
   ]
  },
  {
   "cell_type": "code",
   "execution_count": 10,
   "metadata": {},
   "outputs": [],
   "source": [
    "all_data = df"
   ]
  },
  {
   "cell_type": "code",
   "execution_count": 11,
   "metadata": {},
   "outputs": [],
   "source": [
    "#all_data.drinks.unique()"
   ]
  },
  {
   "cell_type": "code",
   "execution_count": 12,
   "metadata": {
    "scrolled": true
   },
   "outputs": [],
   "source": [
    "drink_mapping = {\"not at all\": 0, \"rarely\": 1, \"socially\": 2, \"often\": 3, \"very often\": 4, \"desperately\": 5}\n",
    "all_data['drinks_code'] = all_data.drinks.map(drink_mapping)"
   ]
  },
  {
   "cell_type": "markdown",
   "metadata": {},
   "source": [
    "\n",
    "These lines of code created a new column called 'drinks_code' that mapped the following `drinks` values to these numbers:\n",
    "\n",
    "\n",
    "| drinks      | drinks_code |\n",
    "|-------------|-------------|\n",
    "| not at all  | 0           |\n",
    "| rarely      | 1           |\n",
    "| socially    | 2           |\n",
    "| often       | 3           |\n",
    "| very often  | 4           |\n",
    "| desperately | 5           |\n"
   ]
  },
  {
   "cell_type": "code",
   "execution_count": 13,
   "metadata": {},
   "outputs": [
    {
     "data": {
      "text/html": [
       "<div>\n",
       "<style scoped>\n",
       "    .dataframe tbody tr th:only-of-type {\n",
       "        vertical-align: middle;\n",
       "    }\n",
       "\n",
       "    .dataframe tbody tr th {\n",
       "        vertical-align: top;\n",
       "    }\n",
       "\n",
       "    .dataframe thead th {\n",
       "        text-align: right;\n",
       "    }\n",
       "</style>\n",
       "<table border=\"1\" class=\"dataframe\">\n",
       "  <thead>\n",
       "    <tr style=\"text-align: right;\">\n",
       "      <th></th>\n",
       "      <th>drinks</th>\n",
       "      <th>drinks_code</th>\n",
       "    </tr>\n",
       "  </thead>\n",
       "  <tbody>\n",
       "    <tr>\n",
       "      <th>0</th>\n",
       "      <td>socially</td>\n",
       "      <td>2.0</td>\n",
       "    </tr>\n",
       "    <tr>\n",
       "      <th>1</th>\n",
       "      <td>often</td>\n",
       "      <td>3.0</td>\n",
       "    </tr>\n",
       "    <tr>\n",
       "      <th>2</th>\n",
       "      <td>socially</td>\n",
       "      <td>2.0</td>\n",
       "    </tr>\n",
       "    <tr>\n",
       "      <th>3</th>\n",
       "      <td>socially</td>\n",
       "      <td>2.0</td>\n",
       "    </tr>\n",
       "    <tr>\n",
       "      <th>4</th>\n",
       "      <td>socially</td>\n",
       "      <td>2.0</td>\n",
       "    </tr>\n",
       "  </tbody>\n",
       "</table>\n",
       "</div>"
      ],
      "text/plain": [
       "     drinks  drinks_code\n",
       "0  socially          2.0\n",
       "1     often          3.0\n",
       "2  socially          2.0\n",
       "3  socially          2.0\n",
       "4  socially          2.0"
      ]
     },
     "execution_count": 13,
     "metadata": {},
     "output_type": "execute_result"
    }
   ],
   "source": [
    "all_data[['drinks','drinks_code']].head()"
   ]
  },
  {
   "cell_type": "markdown",
   "metadata": {},
   "source": [
    "\n",
    "We did the same for `smokes` and `drugs`.\n"
   ]
  },
  {
   "cell_type": "code",
   "execution_count": 14,
   "metadata": {},
   "outputs": [],
   "source": [
    "#all_data.smokes.unique()"
   ]
  },
  {
   "cell_type": "code",
   "execution_count": 15,
   "metadata": {},
   "outputs": [],
   "source": [
    "smokes_mapping = {\"no\": 0, \"trying to quit\": 1, \"when drinking\": 2, \"sometimes\": 3, \"yes\": 4}\n",
    "all_data['smokes_code'] = all_data.smokes.map(smokes_mapping)"
   ]
  },
  {
   "cell_type": "markdown",
   "metadata": {},
   "source": [
    "\n",
    "These lines of code created a new column called 'smokes_code' that mapped the following `smokes` values to these numbers:\n",
    "\n",
    "\n",
    "| smokes         | smokes_code |\n",
    "|----------------|-------------|\n",
    "| no             | 0           |\n",
    "| trying to quit | 1           |\n",
    "| when drinking  | 2           |\n",
    "| sometimes      | 3           |\n",
    "| yes            | 4           |\n"
   ]
  },
  {
   "cell_type": "code",
   "execution_count": 16,
   "metadata": {},
   "outputs": [
    {
     "data": {
      "text/html": [
       "<div>\n",
       "<style scoped>\n",
       "    .dataframe tbody tr th:only-of-type {\n",
       "        vertical-align: middle;\n",
       "    }\n",
       "\n",
       "    .dataframe tbody tr th {\n",
       "        vertical-align: top;\n",
       "    }\n",
       "\n",
       "    .dataframe thead th {\n",
       "        text-align: right;\n",
       "    }\n",
       "</style>\n",
       "<table border=\"1\" class=\"dataframe\">\n",
       "  <thead>\n",
       "    <tr style=\"text-align: right;\">\n",
       "      <th></th>\n",
       "      <th>smokes</th>\n",
       "      <th>smokes_code</th>\n",
       "    </tr>\n",
       "  </thead>\n",
       "  <tbody>\n",
       "    <tr>\n",
       "      <th>0</th>\n",
       "      <td>sometimes</td>\n",
       "      <td>3.0</td>\n",
       "    </tr>\n",
       "    <tr>\n",
       "      <th>1</th>\n",
       "      <td>no</td>\n",
       "      <td>0.0</td>\n",
       "    </tr>\n",
       "    <tr>\n",
       "      <th>2</th>\n",
       "      <td>no</td>\n",
       "      <td>0.0</td>\n",
       "    </tr>\n",
       "    <tr>\n",
       "      <th>3</th>\n",
       "      <td>no</td>\n",
       "      <td>0.0</td>\n",
       "    </tr>\n",
       "    <tr>\n",
       "      <th>4</th>\n",
       "      <td>no</td>\n",
       "      <td>0.0</td>\n",
       "    </tr>\n",
       "  </tbody>\n",
       "</table>\n",
       "</div>"
      ],
      "text/plain": [
       "      smokes  smokes_code\n",
       "0  sometimes          3.0\n",
       "1         no          0.0\n",
       "2         no          0.0\n",
       "3         no          0.0\n",
       "4         no          0.0"
      ]
     },
     "execution_count": 16,
     "metadata": {},
     "output_type": "execute_result"
    }
   ],
   "source": [
    "all_data[['smokes','smokes_code']].head()"
   ]
  },
  {
   "cell_type": "markdown",
   "metadata": {},
   "source": [
    "_"
   ]
  },
  {
   "cell_type": "code",
   "execution_count": 17,
   "metadata": {},
   "outputs": [],
   "source": [
    "#all_data.drugs.unique()"
   ]
  },
  {
   "cell_type": "code",
   "execution_count": 18,
   "metadata": {},
   "outputs": [],
   "source": [
    "drugs_mapping = {\"never\": 0, \"sometimes\": 1, \"often\": 2}\n",
    "all_data['drugs_code'] = all_data.drugs.map(drugs_mapping)"
   ]
  },
  {
   "cell_type": "markdown",
   "metadata": {},
   "source": [
    "\n",
    "These lines of code created a new column called 'drugs_code' that mapped the following `drugs` values to these numbers:\n",
    "\n",
    "\n",
    "| drugs          | drugs_code  |\n",
    "|----------------|-------------|\n",
    "| never          | 0           |\n",
    "| sometimes      | 1           |\n",
    "| often          | 2           |\n"
   ]
  },
  {
   "cell_type": "code",
   "execution_count": 19,
   "metadata": {},
   "outputs": [
    {
     "data": {
      "text/html": [
       "<div>\n",
       "<style scoped>\n",
       "    .dataframe tbody tr th:only-of-type {\n",
       "        vertical-align: middle;\n",
       "    }\n",
       "\n",
       "    .dataframe tbody tr th {\n",
       "        vertical-align: top;\n",
       "    }\n",
       "\n",
       "    .dataframe thead th {\n",
       "        text-align: right;\n",
       "    }\n",
       "</style>\n",
       "<table border=\"1\" class=\"dataframe\">\n",
       "  <thead>\n",
       "    <tr style=\"text-align: right;\">\n",
       "      <th></th>\n",
       "      <th>drugs</th>\n",
       "      <th>drugs_code</th>\n",
       "    </tr>\n",
       "  </thead>\n",
       "  <tbody>\n",
       "    <tr>\n",
       "      <th>0</th>\n",
       "      <td>never</td>\n",
       "      <td>0.0</td>\n",
       "    </tr>\n",
       "    <tr>\n",
       "      <th>1</th>\n",
       "      <td>sometimes</td>\n",
       "      <td>1.0</td>\n",
       "    </tr>\n",
       "    <tr>\n",
       "      <th>2</th>\n",
       "      <td>NaN</td>\n",
       "      <td>NaN</td>\n",
       "    </tr>\n",
       "    <tr>\n",
       "      <th>3</th>\n",
       "      <td>NaN</td>\n",
       "      <td>NaN</td>\n",
       "    </tr>\n",
       "    <tr>\n",
       "      <th>4</th>\n",
       "      <td>never</td>\n",
       "      <td>0.0</td>\n",
       "    </tr>\n",
       "  </tbody>\n",
       "</table>\n",
       "</div>"
      ],
      "text/plain": [
       "       drugs  drugs_code\n",
       "0      never         0.0\n",
       "1  sometimes         1.0\n",
       "2        NaN         NaN\n",
       "3        NaN         NaN\n",
       "4      never         0.0"
      ]
     },
     "execution_count": 19,
     "metadata": {},
     "output_type": "execute_result"
    }
   ],
   "source": [
    "all_data[['drugs','drugs_code']].head()"
   ]
  },
  {
   "cell_type": "markdown",
   "metadata": {},
   "source": [
    "\n",
    "We also wanted some numerical data about the short answer essays. We combined them all into one string, took out the `NaN`s, and then created a new column called `essay_len`:\n"
   ]
  },
  {
   "cell_type": "code",
   "execution_count": 20,
   "metadata": {},
   "outputs": [],
   "source": [
    "import numpy as np"
   ]
  },
  {
   "cell_type": "code",
   "execution_count": 21,
   "metadata": {},
   "outputs": [],
   "source": [
    "essay_cols = ['essay0','essay1','essay2','essay3','essay4','essay5','essay6','essay7','essay8','essay9']\n",
    "\n",
    "\n",
    "# Removing the NaNs\n",
    "all_essays = all_data[essay_cols].replace(np.nan, '', regex=True)\n",
    "\n",
    "# Combining the essays\n",
    "all_essays = all_essays[essay_cols].apply(lambda x: ' '.join(x), axis=1)\n",
    "\n",
    "all_data['essay_len'] = all_essays.apply(lambda x: len(x))"
   ]
  },
  {
   "cell_type": "code",
   "execution_count": 22,
   "metadata": {},
   "outputs": [
    {
     "data": {
      "text/plain": [
       "0    2644\n",
       "1    1453\n",
       "2    5517\n",
       "3     477\n",
       "4     725\n",
       "Name: essay_len, dtype: int64"
      ]
     },
     "execution_count": 22,
     "metadata": {},
     "output_type": "execute_result"
    }
   ],
   "source": [
    "all_data['essay_len'].head()"
   ]
  },
  {
   "cell_type": "markdown",
   "metadata": {},
   "source": [
    "\n",
    "We also created a column with average word length and a column with the frequency of the words \"I\" or \"me\" appearing in the essays.\n"
   ]
  },
  {
   "cell_type": "code",
   "execution_count": 23,
   "metadata": {},
   "outputs": [],
   "source": [
    "import re \n",
    "\n",
    "all_essays = all_essays.apply(lambda words: re.sub(r\"&amp\", \" and \", words))\n",
    "all_essays = all_essays.apply(lambda words: re.sub(r\"<.*?>\", \"\", words))\n",
    "all_essays = all_essays.apply(lambda words: re.sub(r\"'\", \"\", words))\n",
    "all_essays = all_essays.apply(lambda words: re.findall(r\"\\w+\", words))\n",
    "\n",
    "all_data['avg_word_length'] = all_essays.apply(lambda words: sum(len(word) for word in words) / (len(words) + 0.0000001))"
   ]
  },
  {
   "cell_type": "code",
   "execution_count": 24,
   "metadata": {},
   "outputs": [
    {
     "name": "stdout",
     "output_type": "stream",
     "text": [
      "0    4.295556\n",
      "1    4.018797\n",
      "2    4.899654\n",
      "3    5.176471\n",
      "4    4.612613\n",
      "Name: avg_word_length, dtype: float64\n"
     ]
    }
   ],
   "source": [
    "print(all_data['avg_word_length'].head())"
   ]
  },
  {
   "cell_type": "code",
   "execution_count": 25,
   "metadata": {},
   "outputs": [],
   "source": [
    "from collections import Counter"
   ]
  },
  {
   "cell_type": "code",
   "execution_count": 26,
   "metadata": {},
   "outputs": [
    {
     "name": "stdout",
     "output_type": "stream",
     "text": [
      "Counter({'to': 25, 'a': 16, 'the': 15, 'and': 13, 'you': 13, 'i': 12, 'of': 10, 'me': 8, 'in': 7, 'have': 6, 'be': 6, 'for': 6, 'about': 5, 'my': 5, 'love': 4, 'or': 4, 'shoes': 4, 'with': 4, 'am': 4, 'want': 4, 'some': 3, 'way': 3, 'better': 3, 'make': 3, 'really': 3, 'game': 3, 'good': 3, 'down': 3, 'would': 2, 'that': 2, 'guy': 2, 'talk': 2, 'metaphors': 2, 'an': 2, 'salt': 2, 'favorite': 2, 'know': 2, 'things': 2, 'life': 2, 'are': 2, 'as': 2, 'myself': 2, 'lazy': 2, 'tired': 2, 'but': 2, 'only': 2, 'out': 2, 'able': 2, 'laugh': 2, 'should': 2, 'your': 2, 'video': 2, 'trying': 2, 'book': 2, 'simplicity': 2, 'complexity': 2, 'half': 2, 'it': 2, 'food': 2, 'anything': 2, 'someone': 2, 'think': 1, 'was': 1, 'kind': 1, 'intellectual': 1, 'either': 1, 'dumbest': 1, 'smart': 1, 'smartest': 1, 'dumb': 1, 'cant': 1, 'say': 1, 'can': 1, 'tell': 1, 'difference': 1, 'ideas': 1, 'concepts': 1, 'forge': 1, 'odd': 1, 'instead': 1, 'reciting': 1, 'cliches': 1, 'like': 1, 'simularities': 1, 'between': 1, 'friend': 1, 'mines': 1, 'house': 1, 'underwater': 1, 'mine': 1, 'word': 1, 'is': 1, 'by': 1, 'weird': 1, 'choice': 1, 'most': 1, 'seek': 1, 'little': 1, 'everyday': 1, 'productively': 1, 'got': 1, 'tying': 1, 'considered': 1, 'hiring': 1, 'five': 1, 'year': 1, 'old': 1, 'probably': 1, 'tie': 1, 'both': 1, 'our': 1, 'decided': 1, 'wear': 1, 'leather': 1, 'dress': 1, 'serious': 1, 'deep': 1, 'conversations': 1, 'silly': 1, 'stuff': 1, 'willing': 1, 'snap': 1, 'light': 1, 'hearted': 1, 'rant': 1, 'kiss': 1, 'dont': 1, 'funny': 1, 'bend': 1, 'spoons': 1, 'mind': 1, 'telepathically': 1, 'smile': 1, 'while': 1, 'still': 1, 'at': 1, 'work': 1, 'cool': 1, 'just': 1, 'letting': 1, 'wind': 1, 'blow': 1, 'extra': 1, 'points': 1, 'reading': 1, 'all': 1, 'this': 1, 'guessing': 1, 'no': 1, 'hints': 1, 'given': 1, 'yet': 1, 'lastly': 1, 'attention': 1, 'span': 1, 'currently': 1, 'working': 1, 'international': 1, 'agent': 1, 'freight': 1, 'forwarding': 1, 'company': 1, 'import': 1, 'export': 1, 'domestic': 1, 'works': 1, 'online': 1, 'classes': 1, 'free': 1, 'time': 1, 'perhaps': 1, 'hours': 1, 'worth': 1, 'on': 1, 'sunday': 1, 'making': 1, 'people': 1, 'ranting': 1, 'salting': 1, 'finding': 1, 'look': 1, 'six': 1, 'foot': 1, 'asian': 1, 'caucasian': 1, 'mutt': 1, 'makes': 1, 'tough': 1, 'not': 1, 'notice': 1, 'blend': 1, 'books': 1, 'absurdistan': 1, 'republic': 1, 'mice': 1, 'men': 1, 'made': 1, 'cry': 1, 'catcher': 1, 'rye': 1, 'prince': 1, 'movies': 1, 'gladiator': 1, 'operation': 1, 'valkyrie': 1, 'producers': 1, 'periscope': 1, 'shows': 1, 'borgia': 1, 'arrested': 1, 'development': 1, 'thrones': 1, 'monty': 1, 'python': 1, 'music': 1, 'aesop': 1, 'rock': 1, 'hail': 1, 'mary': 1, 'mallon': 1, 'george': 1, 'thorogood': 1, 'delaware': 1, 'destroyers': 1, 'felt': 1, 'im': 1, 'water': 1, 'cell': 1, 'phone': 1, 'shelter': 1, 'duality': 1, 'humorous': 1, 'find': 1, 'hang': 1, 'except': 1, 'club': 1, 'new': 1, 'california': 1, 'looking': 1, 'wisper': 1, 'secrets': 1, 'swept': 1, 'off': 1, 'feet': 1, 'norm': 1, 'catch': 1, 'coffee': 1, 'bite': 1, 'if': 1, 'philosophy': 1})\n"
     ]
    }
   ],
   "source": [
    "all_data['word_i_or_me'] = all_essays.apply(lambda words: Counter(words))\n",
    "print(all_data['word_i_or_me'][0])"
   ]
  },
  {
   "cell_type": "code",
   "execution_count": 27,
   "metadata": {},
   "outputs": [],
   "source": [
    "all_data['word_i_or_me'] = all_essays.apply(lambda words: Counter(words)['i'] + Counter(words)['me'])"
   ]
  },
  {
   "cell_type": "code",
   "execution_count": 28,
   "metadata": {},
   "outputs": [
    {
     "name": "stdout",
     "output_type": "stream",
     "text": [
      "0    20\n",
      "1    22\n",
      "2    24\n",
      "3     2\n",
      "4     2\n",
      "Name: word_i_or_me, dtype: int64\n"
     ]
    }
   ],
   "source": [
    "print(all_data['word_i_or_me'].head())"
   ]
  },
  {
   "cell_type": "markdown",
   "metadata": {},
   "source": [
    "### Normalize your Data!\n",
    "\n",
    "\n",
    "In order to get accurate results, we should make sure our numerical data all has the same weight.\n",
    "\n",
    "\n",
    "For our Zodiac features, we used:\n"
   ]
  },
  {
   "cell_type": "code",
   "execution_count": 29,
   "metadata": {},
   "outputs": [],
   "source": [
    "from sklearn.preprocessing import MinMaxScaler"
   ]
  },
  {
   "cell_type": "code",
   "execution_count": 30,
   "metadata": {},
   "outputs": [],
   "source": [
    "feature_data = all_data[['smokes_code', 'drinks_code', 'drugs_code', 'essay_len', 'avg_word_length']]\n",
    "\n",
    "x = feature_data.values\n",
    "min_max_scaler = MinMaxScaler()\n",
    "x_scaled = min_max_scaler.fit_transform(x)\n",
    "\n",
    "feature_data = pd.DataFrame(x_scaled, columns=feature_data.columns)"
   ]
  },
  {
   "cell_type": "code",
   "execution_count": 31,
   "metadata": {},
   "outputs": [
    {
     "data": {
      "text/html": [
       "<div>\n",
       "<style scoped>\n",
       "    .dataframe tbody tr th:only-of-type {\n",
       "        vertical-align: middle;\n",
       "    }\n",
       "\n",
       "    .dataframe tbody tr th {\n",
       "        vertical-align: top;\n",
       "    }\n",
       "\n",
       "    .dataframe thead th {\n",
       "        text-align: right;\n",
       "    }\n",
       "</style>\n",
       "<table border=\"1\" class=\"dataframe\">\n",
       "  <thead>\n",
       "    <tr style=\"text-align: right;\">\n",
       "      <th></th>\n",
       "      <th>smokes_code</th>\n",
       "      <th>drinks_code</th>\n",
       "      <th>drugs_code</th>\n",
       "      <th>essay_len</th>\n",
       "      <th>avg_word_length</th>\n",
       "    </tr>\n",
       "  </thead>\n",
       "  <tbody>\n",
       "    <tr>\n",
       "      <th>0</th>\n",
       "      <td>0.75</td>\n",
       "      <td>0.4</td>\n",
       "      <td>0.0</td>\n",
       "      <td>0.027372</td>\n",
       "      <td>0.009604</td>\n",
       "    </tr>\n",
       "    <tr>\n",
       "      <th>1</th>\n",
       "      <td>0.00</td>\n",
       "      <td>0.6</td>\n",
       "      <td>0.5</td>\n",
       "      <td>0.015000</td>\n",
       "      <td>0.008986</td>\n",
       "    </tr>\n",
       "    <tr>\n",
       "      <th>2</th>\n",
       "      <td>0.00</td>\n",
       "      <td>0.4</td>\n",
       "      <td>NaN</td>\n",
       "      <td>0.057215</td>\n",
       "      <td>0.010955</td>\n",
       "    </tr>\n",
       "    <tr>\n",
       "      <th>3</th>\n",
       "      <td>0.00</td>\n",
       "      <td>0.4</td>\n",
       "      <td>NaN</td>\n",
       "      <td>0.004861</td>\n",
       "      <td>0.011574</td>\n",
       "    </tr>\n",
       "    <tr>\n",
       "      <th>4</th>\n",
       "      <td>0.00</td>\n",
       "      <td>0.4</td>\n",
       "      <td>0.0</td>\n",
       "      <td>0.007438</td>\n",
       "      <td>0.010313</td>\n",
       "    </tr>\n",
       "  </tbody>\n",
       "</table>\n",
       "</div>"
      ],
      "text/plain": [
       "   smokes_code  drinks_code  drugs_code  essay_len  avg_word_length\n",
       "0         0.75          0.4         0.0   0.027372         0.009604\n",
       "1         0.00          0.6         0.5   0.015000         0.008986\n",
       "2         0.00          0.4         NaN   0.057215         0.010955\n",
       "3         0.00          0.4         NaN   0.004861         0.011574\n",
       "4         0.00          0.4         0.0   0.007438         0.010313"
      ]
     },
     "execution_count": 31,
     "metadata": {},
     "output_type": "execute_result"
    }
   ],
   "source": [
    "feature_data.head()"
   ]
  },
  {
   "cell_type": "markdown",
   "metadata": {},
   "source": [
    "### Use Classification Techniques\n",
    "\n",
    "\n",
    "We have learned how to perform classification in a few different ways.\n",
    "\n",
    "\n",
    "- We learned about K-Nearest Neighbors by exploring IMDB ratings of popular movies \n",
    "- We learned about Support Vector Machines by exploring baseball statistics\n",
    "- We learned about Naive Bayes by exploring Amazon Reviews\n",
    "\n",
    "\n",
    "Some questions we used classification to tackle were:\n",
    "\n",
    "\n",
    "- Can we predict sex with education level and income??\n",
    "- Can we predict education level with essay text word counts?\n",
    "\n",
    "\n",
    "### Use Regression Techniques\n",
    "\n",
    "\n",
    "We have learned how to perform Multiple Linear Regression by playing with StreetEasy apartment data. Is there a way we can apply the techniques we learned to this dataset?\n",
    "\n",
    "\n",
    "Some questions we used regression to tackle were:\n",
    "\n",
    "\n",
    "- Predict income with length of essays and average word length?\n",
    "- Predict age with the frequency of \"I\" or \"me\" in essays?\n",
    "\n",
    "\n",
    "We also learned about K-Nearest Neighbors Regression. Which form of regression works better to answer your question?\n",
    "\n",
    "\n",
    "### Analyze the Accuracy, Precision and Recall\n",
    "\n",
    "\n",
    "After you have trained your model and run it, you will probably be curious about how well it did.\n",
    "\n",
    "\n",
    "Find the accuracy, precision, and recall of each model you used, and create graphs showing how they changed.\n",
    "\n",
    "\n",
    "For our question of classifying Zodiac signs, one graph we produced showed classification accuracy versus `k` (for K-Nearest Neighbors):\n",
    "![accuracy vs k](https://s3.amazonaws.com/codecademy-content/programs/machine-learning/capstone/Zodiac_Accuracy.png)\n",
    "\n",
    "\n",
    "The accuracy we would expect from predicting a Zodiac sign by randomly selecting one would be 1/12, or 0.0833. Our model did not significantly outperform this number. We were unimpressed.\n",
    "\n",
    "\n",
    "### Create your Presentation\n",
    "\n",
    "\n",
    "We want to see:\n",
    "\n",
    "\n",
    "- at least two graphs containing exploration of the dataset\n",
    "- a statement of your question (or questions!) and how you arrived there \n",
    "- the explanation of at least two new columns you created and how you did it\n",
    "- the comparison between two classification approaches, including a qualitative discussion of simplicity, time to run the model, and accuracy, precision, and/or recall\n",
    "- the comparison between two regression approaches, including a qualitative discussion of simplicity, time to run the model, and accuracy, precision, and/or recall\n",
    "- an overall conclusion, with a preliminary answer to your initial question(s), next steps, and what other data you would like to have in order to better answer your question(s)\n",
    "\n",
    "\n",
    "Good luck!"
   ]
  }
 ],
 "metadata": {
  "kernelspec": {
   "display_name": "Python 3",
   "language": "python",
   "name": "python3"
  },
  "language_info": {
   "codemirror_mode": {
    "name": "ipython",
    "version": 3
   },
   "file_extension": ".py",
   "mimetype": "text/x-python",
   "name": "python",
   "nbconvert_exporter": "python",
   "pygments_lexer": "ipython3",
   "version": "3.7.1"
  }
 },
 "nbformat": 4,
 "nbformat_minor": 2
}
